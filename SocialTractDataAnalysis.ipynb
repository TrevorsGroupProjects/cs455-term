{
 "cells": [
  {
   "cell_type": "code",
   "execution_count": 1,
   "id": "44d620c1",
   "metadata": {},
   "outputs": [],
   "source": [
    "import arcgis\n",
    "from arcgis.gis import GIS\n",
    "from arcgis.features import FeatureLayer"
   ]
  },
  {
   "cell_type": "code",
   "execution_count": 2,
   "id": "20277453",
   "metadata": {},
   "outputs": [],
   "source": [
    "census_tract_url = \"https://services1.arcgis.com/4yjifSiIG17X0gW4/arcgis/rest/services/Census_Tracts_Opportunity_Zones_2016Census/FeatureServer\""
   ]
  },
  {
   "cell_type": "code",
   "execution_count": 3,
   "id": "deb39aad",
   "metadata": {},
   "outputs": [
    {
     "data": {
      "text/plain": [
       "'https://www.arcgis.com'"
      ]
     },
     "execution_count": 3,
     "metadata": {},
     "output_type": "execute_result"
    }
   ],
   "source": [
    "gis = arcgis.gis.GIS(username=\"rm3468\", password=\"DyAccu1DtNpl4Mn8Ejtu\")\n",
    "gis.url"
   ]
  },
  {
   "cell_type": "code",
   "execution_count": 4,
   "id": "aab519af",
   "metadata": {},
   "outputs": [],
   "source": [
    "feature_layer = FeatureLayer(census_tract_url, gis)"
   ]
  },
  {
   "cell_type": "code",
   "execution_count": 5,
   "id": "cc5bf0ec",
   "metadata": {},
   "outputs": [
    {
     "data": {
      "text/plain": [
       "<FeatureLayer url:\"https://services1.arcgis.com/4yjifSiIG17X0gW4/arcgis/rest/services/Census_Tracts_Opportunity_Zones_2016Census/FeatureServer\">"
      ]
     },
     "execution_count": 5,
     "metadata": {},
     "output_type": "execute_result"
    }
   ],
   "source": [
    "feature_layer"
   ]
  },
  {
   "cell_type": "code",
   "execution_count": 6,
   "id": "268a7188",
   "metadata": {},
   "outputs": [
    {
     "data": {
      "text/plain": [
       "[{'id': 0,\n",
       "  'name': 'Opportunity_Zone_Tracts',\n",
       "  'parentLayerId': -1,\n",
       "  'defaultVisibility': True,\n",
       "  'subLayerIds': None,\n",
       "  'minScale': 1309605,\n",
       "  'maxScale': 0,\n",
       "  'geometryType': 'esriGeometryPolygon'}]"
      ]
     },
     "execution_count": 6,
     "metadata": {},
     "output_type": "execute_result"
    }
   ],
   "source": [
    "layers = feature_layer.properties[\"layers\"]\n",
    "layers"
   ]
  },
  {
   "cell_type": "code",
   "execution_count": 7,
   "id": "0eb8bc87",
   "metadata": {},
   "outputs": [
    {
     "data": {
      "text/plain": [
       "{'id': 0,\n",
       " 'name': 'Opportunity_Zone_Tracts',\n",
       " 'parentLayerId': -1,\n",
       " 'defaultVisibility': True,\n",
       " 'subLayerIds': None,\n",
       " 'minScale': 1309605,\n",
       " 'maxScale': 0,\n",
       " 'geometryType': 'esriGeometryPolygon'}"
      ]
     },
     "execution_count": 7,
     "metadata": {},
     "output_type": "execute_result"
    }
   ],
   "source": [
    "target_layer = layers[0]\n",
    "target_layer"
   ]
  },
  {
   "cell_type": "code",
   "execution_count": 8,
   "id": "f3053b4b",
   "metadata": {},
   "outputs": [
    {
     "data": {
      "text/plain": [
       "0"
      ]
     },
     "execution_count": 8,
     "metadata": {},
     "output_type": "execute_result"
    }
   ],
   "source": [
    "target_layer[\"id\"]"
   ]
  },
  {
   "cell_type": "code",
   "execution_count": 9,
   "id": "009c03bd",
   "metadata": {},
   "outputs": [
    {
     "data": {
      "text/plain": [
       "'https://services1.arcgis.com/4yjifSiIG17X0gW4/arcgis/rest/services/Census_Tracts_Opportunity_Zones_2016Census/FeatureServer/0'"
      ]
     },
     "execution_count": 9,
     "metadata": {},
     "output_type": "execute_result"
    }
   ],
   "source": [
    "target_layer_url = f\"{census_tract_url}/{target_layer['id']}\"\n",
    "target_layer_url"
   ]
  },
  {
   "cell_type": "code",
   "execution_count": 10,
   "id": "1ec722c9",
   "metadata": {},
   "outputs": [
    {
     "data": {
      "text/plain": [
       "<FeatureLayer url:\"https://services1.arcgis.com/4yjifSiIG17X0gW4/arcgis/rest/services/Census_Tracts_Opportunity_Zones_2016Census/FeatureServer/0\">"
      ]
     },
     "execution_count": 10,
     "metadata": {},
     "output_type": "execute_result"
    }
   ],
   "source": [
    "target_feature_layer = FeatureLayer(target_layer_url, gis)\n",
    "target_feature_layer"
   ]
  },
  {
   "cell_type": "code",
   "execution_count": 17,
   "id": "2eaef482",
   "metadata": {},
   "outputs": [
    {
     "data": {
      "text/plain": [
       "<FeatureSet> 1249 features"
      ]
     },
     "execution_count": 17,
     "metadata": {},
     "output_type": "execute_result"
    }
   ],
   "source": [
    "data = target_feature_layer.query(where = \"Tract_Boundaries_ST_ABBREV = 'CO'\")\n",
    "data"
   ]
  },
  {
   "cell_type": "code",
   "execution_count": null,
   "id": "f4ada196",
   "metadata": {},
   "outputs": [],
   "source": []
  }
 ],
 "metadata": {
  "kernelspec": {
   "display_name": "Python 3 (ipykernel)",
   "language": "python",
   "name": "python3"
  },
  "language_info": {
   "codemirror_mode": {
    "name": "ipython",
    "version": 3
   },
   "file_extension": ".py",
   "mimetype": "text/x-python",
   "name": "python",
   "nbconvert_exporter": "python",
   "pygments_lexer": "ipython3",
   "version": "3.9.7"
  }
 },
 "nbformat": 4,
 "nbformat_minor": 5
}
