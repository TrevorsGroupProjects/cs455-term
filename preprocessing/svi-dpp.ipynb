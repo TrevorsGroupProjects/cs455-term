{
 "cells": [
  {
   "cell_type": "markdown",
   "id": "a0f0d38b",
   "metadata": {},
   "source": [
    "# Import Modules"
   ]
  },
  {
   "cell_type": "code",
   "execution_count": 1,
   "id": "7ed88363",
   "metadata": {},
   "outputs": [],
   "source": [
    "import json"
   ]
  },
  {
   "cell_type": "markdown",
   "id": "205ceb4d",
   "metadata": {},
   "source": [
    "# Load Datasets"
   ]
  },
  {
   "cell_type": "code",
   "execution_count": 2,
   "id": "3a8405f6",
   "metadata": {},
   "outputs": [],
   "source": [
    "file_list = []\n",
    "\n",
    "file_list.append(open(r'svi_data/svi_county_GISJOIN.Alabama.raw_data.json', 'r'))\n",
    "file_list.append(open(r'svi_data/svi_county_GISJOIN.Alaska.raw_data.json', 'r'))\n",
    "file_list.append(open(r'svi_data/svi_county_GISJOIN.Arizona.raw_data.json', 'r'))\n",
    "file_list.append(open(r'svi_data/svi_county_GISJOIN.Arkansas.raw_data.json', 'r'))\n",
    "file_list.append(open(r'svi_data/svi_county_GISJOIN.California.raw_data.json', 'r'))\n",
    "file_list.append(open(r'svi_data/svi_county_GISJOIN.Colorado.raw_data.json', 'r'))\n",
    "file_list.append(open(r'svi_data/svi_county_GISJOIN.Connecticut.raw_data.json', 'r'))\n",
    "file_list.append(open(r'svi_data/svi_county_GISJOIN.Delaware.raw_data.json', 'r'))\n",
    "file_list.append(open(r'svi_data/svi_county_GISJOIN.Florida.raw_data.json', 'r'))\n",
    "file_list.append(open(r'svi_data/svi_county_GISJOIN.Georgia.raw_data.json', 'r'))\n",
    "file_list.append(open(r'svi_data/svi_county_GISJOIN.Hawaii.raw_data.json', 'r'))\n",
    "file_list.append(open(r'svi_data/svi_county_GISJOIN.Idaho.raw_data.json', 'r'))\n",
    "file_list.append(open(r'svi_data/svi_county_GISJOIN.Illinois.raw_data.json', 'r'))\n",
    "file_list.append(open(r'svi_data/svi_county_GISJOIN.Indiana.raw_data.json', 'r'))\n",
    "file_list.append(open(r'svi_data/svi_county_GISJOIN.Iowa.raw_data.json', 'r'))\n",
    "file_list.append(open(r'svi_data/svi_county_GISJOIN.Kansas.raw_data.json', 'r'))\n",
    "file_list.append(open(r'svi_data/svi_county_GISJOIN.Kentucky.raw_data.json', 'r'))\n",
    "file_list.append(open(r'svi_data/svi_county_GISJOIN.Louisiana.raw_data.json', 'r'))\n",
    "file_list.append(open(r'svi_data/svi_county_GISJOIN.Maine.raw_data.json', 'r'))\n",
    "file_list.append(open(r'svi_data/svi_county_GISJOIN.Maryland.raw_data.json', 'r'))\n",
    "file_list.append(open(r'svi_data/svi_county_GISJOIN.Massachusetts.raw_data.json', 'r'))\n",
    "file_list.append(open(r'svi_data/svi_county_GISJOIN.Michigan.raw_data.json', 'r'))\n",
    "file_list.append(open(r'svi_data/svi_county_GISJOIN.Minnesota.raw_data.json', 'r'))\n",
    "file_list.append(open(r'svi_data/svi_county_GISJOIN.Mississippi.raw_data.json', 'r'))\n",
    "file_list.append(open(r'svi_data/svi_county_GISJOIN.Missouri.raw_data.json', 'r'))\n",
    "file_list.append(open(r'svi_data/svi_county_GISJOIN.Montana.raw_data.json', 'r'))\n",
    "file_list.append(open(r'svi_data/svi_county_GISJOIN.Nebraska.raw_data.json', 'r'))\n",
    "file_list.append(open(r'svi_data/svi_county_GISJOIN.Nevada.raw_data.json', 'r'))\n",
    "file_list.append(open(r'svi_data/svi_county_GISJOIN.New Hampshire.raw_data.json', 'r'))\n",
    "file_list.append(open(r'svi_data/svi_county_GISJOIN.New Jersey.raw_data.json', 'r'))\n",
    "file_list.append(open(r'svi_data/svi_county_GISJOIN.New Mexico.raw_data.json', 'r'))\n",
    "file_list.append(open(r'svi_data/svi_county_GISJOIN.New York.raw_data.json', 'r'))\n",
    "file_list.append(open(r'svi_data/svi_county_GISJOIN.North Carolina.raw_data.json', 'r'))\n",
    "file_list.append(open(r'svi_data/svi_county_GISJOIN.North Dakota.raw_data.json', 'r'))\n",
    "file_list.append(open(r'svi_data/svi_county_GISJOIN.Ohio.raw_data.json', 'r'))\n",
    "file_list.append(open(r'svi_data/svi_county_GISJOIN.Oklahoma.raw_data.json', 'r'))\n",
    "file_list.append(open(r'svi_data/svi_county_GISJOIN.Oregon.raw_data.json', 'r'))\n",
    "file_list.append(open(r'svi_data/svi_county_GISJOIN.Pennsylvania.raw_data.json', 'r'))\n",
    "file_list.append(open(r'svi_data/svi_county_GISJOIN.Rhode Island.raw_data.json', 'r'))\n",
    "file_list.append(open(r'svi_data/svi_county_GISJOIN.South Carolina.raw_data.json', 'r'))\n",
    "file_list.append(open(r'svi_data/svi_county_GISJOIN.South Dakota.raw_data.json', 'r'))\n",
    "file_list.append(open(r'svi_data/svi_county_GISJOIN.Tennessee.raw_data.json', 'r'))\n",
    "file_list.append(open(r'svi_data/svi_county_GISJOIN.Texas.raw_data.json', 'r'))\n",
    "file_list.append(open(r'svi_data/svi_county_GISJOIN.Utah.raw_data.json', 'r'))\n",
    "file_list.append(open(r'svi_data/svi_county_GISJOIN.Vermont.raw_data.json', 'r'))\n",
    "file_list.append(open(r'svi_data/svi_county_GISJOIN.Virginia.raw_data.json', 'r'))\n",
    "file_list.append(open(r'svi_data/svi_county_GISJOIN.Washington.raw_data.json', 'r'))\n",
    "file_list.append(open(r'svi_data/svi_county_GISJOIN.West Virginia.raw_data.json', 'r'))\n",
    "file_list.append(open(r'svi_data/svi_county_GISJOIN.Wisconsin.raw_data.json', 'r'))\n",
    "file_list.append(open(r'svi_data/svi_county_GISJOIN.Wyoming.raw_data.json', 'r'))"
   ]
  },
  {
   "cell_type": "code",
   "execution_count": 3,
   "id": "0b0fece5",
   "metadata": {},
   "outputs": [],
   "source": [
    "data_list = []\n",
    "\n",
    "for file in file_list:\n",
    "    data_list.append(json.load(file))"
   ]
  },
  {
   "cell_type": "markdown",
   "id": "87164342",
   "metadata": {},
   "source": [
    "# Preprocess Data"
   ]
  },
  {
   "cell_type": "code",
   "execution_count": 4,
   "id": "a95167d2",
   "metadata": {},
   "outputs": [],
   "source": [
    "all_states_data = []\n",
    "\n",
    "for state_data in data_list:\n",
    "    for entry in state_data:\n",
    "        county = entry.get('COUNTY').upper()\n",
    "        state = entry.get('ST_ABBR')\n",
    "        svi = entry.get('RPL_THEMES')\n",
    "        if county != None and state != None and svi != None:\n",
    "            all_states_data.append(\"\\'\" + county + \"-\" + state + \"\\'\" + \" \" + str(svi) + \"\\r\\n\")"
   ]
  },
  {
   "cell_type": "markdown",
   "id": "c0f25582",
   "metadata": {},
   "source": [
    "# Write Data To File"
   ]
  },
  {
   "cell_type": "code",
   "execution_count": 5,
   "id": "20222cbb",
   "metadata": {},
   "outputs": [],
   "source": [
    "output_file = open(r\"ProcessedSVIData.txt\", \"w\")\n",
    "output_file.writelines(all_states_data)\n",
    "output_file.close()"
   ]
  }
 ],
 "metadata": {
  "kernelspec": {
   "display_name": "Python 3 (ipykernel)",
   "language": "python",
   "name": "python3"
  },
  "language_info": {
   "codemirror_mode": {
    "name": "ipython",
    "version": 3
   },
   "file_extension": ".py",
   "mimetype": "text/x-python",
   "name": "python",
   "nbconvert_exporter": "python",
   "pygments_lexer": "ipython3",
   "version": "3.9.7"
  }
 },
 "nbformat": 4,
 "nbformat_minor": 5
}
