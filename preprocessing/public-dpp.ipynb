{
 "cells": [
  {
   "cell_type": "markdown",
   "id": "a0f0d38b",
   "metadata": {},
   "source": [
    "# Import Modules"
   ]
  },
  {
   "cell_type": "code",
   "execution_count": 1,
   "id": "7ed88363",
   "metadata": {},
   "outputs": [],
   "source": [
    "import json"
   ]
  },
  {
   "cell_type": "markdown",
   "id": "205ceb4d",
   "metadata": {},
   "source": [
    "# Load Datasets"
   ]
  },
  {
   "cell_type": "code",
   "execution_count": 2,
   "id": "3a8405f6",
   "metadata": {},
   "outputs": [],
   "source": [
    "AL_file = open(r'public_school_data/public_schools.Alabama.raw_data.json', 'r')\n",
    "AZ_file = open(r'public_school_data/public_schools.Arizona.raw_data.json', 'r')\n",
    "AR_file = open(r'public_school_data/public_schools.Arkansas.raw_data.json', 'r')\n",
    "CA_file = open(r'public_school_data/public_schools.California.raw_data.json', 'r')\n",
    "CO_file = open(r'public_school_data/public_schools.Colorado.raw_data.json', 'r')\n",
    "CT_file = open(r'public_school_data/public_schools.Connecticut.raw_data.json', 'r')\n",
    "DE_file = open(r'public_school_data/public_schools.Delaware.raw_data.json', 'r')\n",
    "FL_file = open(r'public_school_data/public_schools.Florida.raw_data.json', 'r')\n",
    "GA_file = open(r'public_school_data/public_schools.Georgia.raw_data.json', 'r')\n",
    "HI_file = open(r'public_school_data/public_schools.Hawaii.raw_data.json', 'r')\n",
    "ID_file = open(r'public_school_data/public_schools.Idaho.raw_data.json', 'r')\n",
    "IL_file = open(r'public_school_data/public_schools.Illinois.raw_data.json', 'r')\n",
    "IN_file = open(r'public_school_data/public_schools.Indiana.raw_data.json', 'r')\n",
    "IA_file = open(r'public_school_data/public_schools.Iowa.raw_data.json', 'r')\n",
    "KS_file = open(r'public_school_data/public_schools.Kansas.raw_data.json', 'r')\n",
    "KY_file = open(r'public_school_data/public_schools.Kentucky.raw_data.json', 'r')\n",
    "MA_file = open(r'public_school_data/public_schools.Massachusetts.raw_data.json', 'r')\n",
    "MI_file = open(r'public_school_data/public_schools.Michigan.raw_data.json', 'r')\n",
    "MN_file = open(r'public_school_data/public_schools.Minnesota.raw_data.json', 'r')\n",
    "MS_file = open(r'public_school_data/public_schools.Mississippi.raw_data.json', 'r')\n",
    "MO_file = open(r'public_school_data/public_schools.Missouri.raw_data.json', 'r')\n",
    "MT_file = open(r'public_school_data/public_schools.Montana.raw_data.json', 'r')\n",
    "NE_file = open(r'public_school_data/public_schools.Nebraska.raw_data.json', 'r')\n",
    "NV_file = open(r'public_school_data/public_schools.Nevada.raw_data.json', 'r')\n",
    "NH_file = open(r'public_school_data/public_schools.New Hampshire.raw_data.json', 'r')\n",
    "NJ_file = open(r'public_school_data/public_schools.New Jersey.raw_data.json', 'r')\n",
    "NM_file = open(r'public_school_data/public_schools.New Mexico.raw_data.json', 'r')\n",
    "NY_file = open(r'public_school_data/public_schools.New York.raw_data.json', 'r')\n",
    "ND_file = open(r'public_school_data/public_schools.North Dakota.raw_data.json', 'r')\n",
    "OH_file = open(r'public_school_data/public_schools.Ohio.raw_data.json', 'r')\n",
    "OK_file = open(r'public_school_data/public_schools.Oklahoma.raw_data.json', 'r')\n",
    "OR_file = open(r'public_school_data/public_schools.Oregon.raw_data.json', 'r')\n",
    "PA_file = open(r'public_school_data/public_schools.Pennsylvania.raw_data.json', 'r')\n",
    "RI_file = open(r'public_school_data/public_schools.Rhode Island.raw_data.json', 'r')\n",
    "SC_file = open(r'public_school_data/public_schools.South Carolina.raw_data.json', 'r')\n",
    "SD_file = open(r'public_school_data/public_schools.South Dakota.raw_data.json', 'r')\n",
    "TN_file = open(r'public_school_data/public_schools.Tennessee.raw_data.json', 'r')\n",
    "UT_file = open(r'public_school_data/public_schools.Utah.raw_data.json', 'r')\n",
    "VT_file = open(r'public_school_data/public_schools.Vermont.raw_data.json', 'r')\n",
    "WA_file = open(r'public_school_data/public_schools.Washington.raw_data.json', 'r')\n",
    "WV_file = open(r'public_school_data/public_schools.West Virginia.raw_data.json', 'r')\n",
    "WI_file = open(r'public_school_data/public_schools.Wisconsin.raw_data.json', 'r')\n",
    "WY_file = open(r'public_school_data/public_schools.Wyoming.raw_data.json', 'r')"
   ]
  },
  {
   "cell_type": "code",
   "execution_count": 3,
   "id": "0b0fece5",
   "metadata": {},
   "outputs": [],
   "source": [
    "data_list = []\n",
    "\n",
    "data_list.append(json.load(AL_file))\n",
    "data_list.append(json.load(AZ_file))\n",
    "data_list.append(json.load(AR_file))\n",
    "data_list.append(json.load(CA_file))\n",
    "data_list.append(json.load(CO_file))\n",
    "data_list.append(json.load(CT_file))\n",
    "data_list.append(json.load(DE_file))\n",
    "data_list.append(json.load(FL_file))\n",
    "data_list.append(json.load(GA_file))\n",
    "data_list.append(json.load(HI_file))\n",
    "data_list.append(json.load(ID_file))\n",
    "data_list.append(json.load(IL_file))\n",
    "data_list.append(json.load(IN_file))\n",
    "data_list.append(json.load(IA_file))\n",
    "data_list.append(json.load(KS_file))\n",
    "data_list.append(json.load(KY_file))\n",
    "data_list.append(json.load(MA_file))\n",
    "data_list.append(json.load(MI_file))\n",
    "data_list.append(json.load(MN_file))\n",
    "data_list.append(json.load(MS_file))\n",
    "data_list.append(json.load(MO_file))\n",
    "data_list.append(json.load(MT_file))\n",
    "data_list.append(json.load(NE_file))\n",
    "data_list.append(json.load(NV_file))\n",
    "data_list.append(json.load(NH_file))\n",
    "data_list.append(json.load(NJ_file))\n",
    "data_list.append(json.load(NM_file))\n",
    "data_list.append(json.load(NY_file))\n",
    "data_list.append(json.load(ND_file))\n",
    "data_list.append(json.load(OH_file))\n",
    "data_list.append(json.load(OK_file))\n",
    "data_list.append(json.load(OR_file))\n",
    "data_list.append(json.load(PA_file))\n",
    "data_list.append(json.load(RI_file))\n",
    "data_list.append(json.load(SC_file))\n",
    "data_list.append(json.load(SD_file))\n",
    "data_list.append(json.load(TN_file))\n",
    "data_list.append(json.load(UT_file))\n",
    "data_list.append(json.load(VT_file))\n",
    "data_list.append(json.load(WA_file))\n",
    "data_list.append(json.load(WV_file))\n",
    "data_list.append(json.load(WI_file))\n",
    "data_list.append(json.load(WY_file))"
   ]
  },
  {
   "cell_type": "markdown",
   "id": "87164342",
   "metadata": {},
   "source": [
    "# Preprocess Data"
   ]
  },
  {
   "cell_type": "code",
   "execution_count": 4,
   "id": "a95167d2",
   "metadata": {},
   "outputs": [],
   "source": [
    "all_states_data = []\n",
    "\n",
    "for state_data in data_list:\n",
    "    for entry in state_data:\n",
    "        county = entry.get('properties').get('COUNTY')\n",
    "        state = entry.get('properties').get('STATE')\n",
    "        name = entry.get('properties').get('NAME')\n",
    "        if entry.get('properties').get('COUNTY') != None:\n",
    "            all_states_data.append(\"\\'\" + county + \"-\" + state + \"\\'\" + \" \\'\" + name + \"\\'\\r\\n\")"
   ]
  },
  {
   "cell_type": "markdown",
   "id": "c0f25582",
   "metadata": {},
   "source": [
    "# Write Data To File"
   ]
  },
  {
   "cell_type": "code",
   "execution_count": 5,
   "id": "20222cbb",
   "metadata": {},
   "outputs": [],
   "source": [
    "output_file = open(r\"ProcessedPublicSchools.txt\", \"w\")\n",
    "output_file.writelines(all_states_data)\n",
    "output_file.close()"
   ]
  }
 ],
 "metadata": {
  "kernelspec": {
   "display_name": "Python 3 (ipykernel)",
   "language": "python",
   "name": "python3"
  },
  "language_info": {
   "codemirror_mode": {
    "name": "ipython",
    "version": 3
   },
   "file_extension": ".py",
   "mimetype": "text/x-python",
   "name": "python",
   "nbconvert_exporter": "python",
   "pygments_lexer": "ipython3",
   "version": "3.9.7"
  }
 },
 "nbformat": 4,
 "nbformat_minor": 5
}
