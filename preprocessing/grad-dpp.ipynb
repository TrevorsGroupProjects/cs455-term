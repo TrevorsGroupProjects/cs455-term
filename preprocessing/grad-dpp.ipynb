{
 "cells": [
  {
   "cell_type": "markdown",
   "metadata": {},
   "source": [
    "# Import Modules"
   ]
  },
  {
   "cell_type": "code",
   "execution_count": 1,
   "metadata": {},
   "outputs": [],
   "source": [
    "import arcgis\n",
    "import pandas as pd\n",
    "import numpy as np\n",
    "import csv\n",
    "from arcgis.gis import GIS\n",
    "from arcgis.features import FeatureLayer"
   ]
  },
  {
   "cell_type": "markdown",
   "metadata": {},
   "source": [
    "# Download Dataset CSVs"
   ]
  },
  {
   "cell_type": "code",
   "execution_count": 2,
   "metadata": {
    "pycharm": {
     "name": "#%%\n"
    }
   },
   "outputs": [],
   "source": [
    "gis = arcgis.gis.GIS(username=\"rm3468\", password=\"DyAccu1DtNpl4Mn8Ejtu\")\n",
    "graduation_url = 'https://services1.arcgis.com/4yjifSiIG17X0gW4/arcgis/rest/services/CountyHealthRankings_2018/FeatureServer'\n",
    "feature_layer = FeatureLayer(graduation_url, gis)\n",
    "layers = feature_layer.properties[\"layers\"]\n",
    "target_layer = layers[0]\n",
    "target_layer_url = f\"{graduation_url}/{target_layer['id']}\"\n",
    "target_feature_layer = FeatureLayer(target_layer_url, gis)\n",
    "data = target_feature_layer.query()\n",
    "data_df = data.sdf\n",
    "data_df.to_csv('./Graduation_Rates.csv')"
   ]
  },
  {
   "cell_type": "markdown",
   "metadata": {},
   "source": [
    "# Preprocess Datasets"
   ]
  },
  {
   "cell_type": "code",
   "execution_count": 3,
   "metadata": {
    "scrolled": false
   },
   "outputs": [],
   "source": [
    "with open(r\"Graduation_Rates.csv\", \"r\") as csv_file:\n",
    "    reader = csv.reader(csv_file)\n",
    "    \n",
    "    output_list = []\n",
    "    count = 0\n",
    "    for row in reader:\n",
    "        if count > 0:\n",
    "            entry_county = row[9]\n",
    "            entry_state = row[7]\n",
    "            entry_grad_rate = row[58]\n",
    "            line = entry_county.upper() + \"-\" + entry_state + \" \" + entry_grad_rate + \"\\n\"\n",
    "            if entry_grad_rate != \"\":\n",
    "                output_list.append(line)\n",
    "        count = count + 1\n",
    "    csv_file.close()\n",
    "    \n",
    "grad_output_file = open(r\"GraduationRateData.txt\", \"w\")\n",
    "grad_output_file.writelines(output_list)\n",
    "grad_output_file.close()"
   ]
  }
 ],
 "metadata": {
  "kernelspec": {
   "display_name": "Python 3 (ipykernel)",
   "language": "python",
   "name": "python3"
  },
  "language_info": {
   "codemirror_mode": {
    "name": "ipython",
    "version": 3
   },
   "file_extension": ".py",
   "mimetype": "text/x-python",
   "name": "python",
   "nbconvert_exporter": "python",
   "pygments_lexer": "ipython3",
   "version": "3.9.7"
  }
 },
 "nbformat": 4,
 "nbformat_minor": 1
}
